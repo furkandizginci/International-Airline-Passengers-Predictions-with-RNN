{
  "nbformat": 4,
  "nbformat_minor": 0,
  "metadata": {
    "colab": {
      "name": "Airlines_LSTM.ipynb",
      "provenance": [],
      "toc_visible": true
    },
    "kernelspec": {
      "name": "python3",
      "display_name": "Python 3"
    }
  },
  "cells": [
    {
      "cell_type": "markdown",
      "metadata": {
        "id": "Pl3JBxnQ26Iy"
      },
      "source": [
        "# Importing Libraries"
      ]
    },
    {
      "cell_type": "code",
      "metadata": {
        "id": "tXiUPi2K23BZ"
      },
      "source": [
        "import numpy\r\n",
        "import pandas as pd \r\n",
        "import matplotlib.pyplot as plt\r\n",
        "import math\r\n",
        "from keras.models import Sequential\r\n",
        "from keras.layers import Dense\r\n",
        "from keras.layers import LSTM\r\n",
        "from sklearn.preprocessing import MinMaxScaler\r\n",
        "from sklearn.metrics import mean_squared_error"
      ],
      "execution_count": 1,
      "outputs": []
    },
    {
      "cell_type": "markdown",
      "metadata": {
        "id": "6jOY0g0f3Pqd"
      },
      "source": [
        "Importing Data"
      ]
    },
    {
      "cell_type": "code",
      "metadata": {
        "colab": {
          "base_uri": "https://localhost:8080/",
          "height": 257
        },
        "id": "hKrGGiTC3PzW",
        "outputId": "be567cfc-322b-406b-b374-d70c8e5b3bdf"
      },
      "source": [
        "data = pd.read_csv('international-airline-passengers.csv',skipfooter=5)\r\n",
        "data.head()"
      ],
      "execution_count": 2,
      "outputs": [
        {
          "output_type": "stream",
          "text": [
            "/usr/local/lib/python3.6/dist-packages/ipykernel_launcher.py:1: ParserWarning: Falling back to the 'python' engine because the 'c' engine does not support skipfooter; you can avoid this warning by specifying engine='python'.\n",
            "  \"\"\"Entry point for launching an IPython kernel.\n"
          ],
          "name": "stderr"
        },
        {
          "output_type": "execute_result",
          "data": {
            "text/html": [
              "<div>\n",
              "<style scoped>\n",
              "    .dataframe tbody tr th:only-of-type {\n",
              "        vertical-align: middle;\n",
              "    }\n",
              "\n",
              "    .dataframe tbody tr th {\n",
              "        vertical-align: top;\n",
              "    }\n",
              "\n",
              "    .dataframe thead th {\n",
              "        text-align: right;\n",
              "    }\n",
              "</style>\n",
              "<table border=\"1\" class=\"dataframe\">\n",
              "  <thead>\n",
              "    <tr style=\"text-align: right;\">\n",
              "      <th></th>\n",
              "      <th>Month</th>\n",
              "      <th>International airline passengers: monthly totals in thousands. Jan 49 ? Dec 60</th>\n",
              "    </tr>\n",
              "  </thead>\n",
              "  <tbody>\n",
              "    <tr>\n",
              "      <th>0</th>\n",
              "      <td>1949-01</td>\n",
              "      <td>112</td>\n",
              "    </tr>\n",
              "    <tr>\n",
              "      <th>1</th>\n",
              "      <td>1949-02</td>\n",
              "      <td>118</td>\n",
              "    </tr>\n",
              "    <tr>\n",
              "      <th>2</th>\n",
              "      <td>1949-03</td>\n",
              "      <td>132</td>\n",
              "    </tr>\n",
              "    <tr>\n",
              "      <th>3</th>\n",
              "      <td>1949-04</td>\n",
              "      <td>129</td>\n",
              "    </tr>\n",
              "    <tr>\n",
              "      <th>4</th>\n",
              "      <td>1949-05</td>\n",
              "      <td>121</td>\n",
              "    </tr>\n",
              "  </tbody>\n",
              "</table>\n",
              "</div>"
            ],
            "text/plain": [
              "     Month  International airline passengers: monthly totals in thousands. Jan 49 ? Dec 60\n",
              "0  1949-01                                                112                             \n",
              "1  1949-02                                                118                             \n",
              "2  1949-03                                                132                             \n",
              "3  1949-04                                                129                             \n",
              "4  1949-05                                                121                             "
            ]
          },
          "metadata": {
            "tags": []
          },
          "execution_count": 2
        }
      ]
    },
    {
      "cell_type": "markdown",
      "metadata": {
        "id": "LluKg3C03d8t"
      },
      "source": [
        "Visualizing Data"
      ]
    },
    {
      "cell_type": "code",
      "metadata": {
        "colab": {
          "base_uri": "https://localhost:8080/",
          "height": 294
        },
        "id": "dW5b5VwS3aJm",
        "outputId": "add5ab42-0234-42b1-d1c0-eaa46ba9d265"
      },
      "source": [
        "dataset = data.iloc[:,1].values\r\n",
        "plt.plot(dataset)\r\n",
        "plt.xlabel(\"time\")\r\n",
        "plt.ylabel(\"Number of Passenger\")\r\n",
        "plt.title(\"international airline passenger\")\r\n",
        "plt.show()"
      ],
      "execution_count": 3,
      "outputs": [
        {
          "output_type": "display_data",
          "data": {
            "image/png": "[encoded data removed]",
            "text/plain": [
              "<Figure size 432x288 with 1 Axes>"
            ]
          },
          "metadata": {
            "tags": [],
            "needs_background": "light"
          }
        }
      ]
    },
    {
      "cell_type": "markdown",
      "metadata": {
        "id": "eQsc3TxP3kWz"
      },
      "source": [
        "Preprocessing the Data"
      ]
    },
    {
      "cell_type": "code",
      "metadata": {
        "colab": {
          "base_uri": "https://localhost:8080/"
        },
        "id": "EClSAPYZ3mTX",
        "outputId": "39620b01-c920-4b80-e68d-ca4ba860d1cd"
      },
      "source": [
        "dataset = dataset.reshape(-1,1)\r\n",
        "dataset = dataset.astype(\"float32\")\r\n",
        "dataset.shape"
      ],
      "execution_count": 4,
      "outputs": [
        {
          "output_type": "execute_result",
          "data": {
            "text/plain": [
              "(142, 1)"
            ]
          },
          "metadata": {
            "tags": []
          },
          "execution_count": 4
        }
      ]
    },
    {
      "cell_type": "markdown",
      "metadata": {
        "id": "yoAbO-fA3pmW"
      },
      "source": [
        "Scaling \r\n"
      ]
    },
    {
      "cell_type": "code",
      "metadata": {
        "id": "B8jIiew73puR"
      },
      "source": [
        "scaler = MinMaxScaler(feature_range=(0, 1))\r\n",
        "dataset = scaler.fit_transform(dataset)"
      ],
      "execution_count": 5,
      "outputs": []
    },
    {
      "cell_type": "code",
      "metadata": {
        "colab": {
          "base_uri": "https://localhost:8080/"
        },
        "id": "vLAGLM-K3yQr",
        "outputId": "05a06bf3-5552-4090-c24c-29d2a4b4505c"
      },
      "source": [
        "train_size = int(len(dataset) * 0.50)\r\n",
        "test_size = len(dataset) - train_size\r\n",
        "train = dataset[0:train_size,:]\r\n",
        "test = dataset[train_size:len(dataset),:]\r\n",
        "print(\"train size: {}, test size: {} \".format(len(train), len(test)))"
      ],
      "execution_count": 6,
      "outputs": [
        {
          "output_type": "stream",
          "text": [
            "train size: 71, test size: 71 \n"
          ],
          "name": "stdout"
        }
      ]
    },
    {
      "cell_type": "code",
      "metadata": {
        "id": "4mfI2R1k300T"
      },
      "source": [
        "time_stemp = 10\r\n",
        "dataX = []\r\n",
        "dataY = []\r\n",
        "for i in range(len(train)-time_stemp-1):\r\n",
        "    a = train[i:(i+time_stemp), 0]\r\n",
        "    dataX.append(a)\r\n",
        "    dataY.append(train[i + time_stemp, 0])\r\n",
        "trainX = numpy.array(dataX)\r\n",
        "trainY = numpy.array(dataY) "
      ],
      "execution_count": 7,
      "outputs": []
    },
    {
      "cell_type": "code",
      "metadata": {
        "id": "cdyCKW3C34tY"
      },
      "source": [
        "dataX = []\r\n",
        "dataY = []\r\n",
        "for i in range(len(test)-time_stemp-1):\r\n",
        "    a = test[i:(i+time_stemp), 0]\r\n",
        "    dataX.append(a)\r\n",
        "    dataY.append(test[i + time_stemp, 0])\r\n",
        "testX = numpy.array(dataX)\r\n",
        "testY = numpy.array(dataY) "
      ],
      "execution_count": 8,
      "outputs": []
    },
    {
      "cell_type": "code",
      "metadata": {
        "id": "Gx6MTyCP37Gm"
      },
      "source": [
        "trainX = numpy.reshape(trainX, (trainX.shape[0], 1, trainX.shape[1]))\r\n",
        "testX = numpy.reshape(testX, (testX.shape[0], 1, testX.shape[1]))"
      ],
      "execution_count": 9,
      "outputs": []
    },
    {
      "cell_type": "markdown",
      "metadata": {
        "id": "FxJeB2aM4ALW"
      },
      "source": [
        "# Create LSTM Models"
      ]
    },
    {
      "cell_type": "code",
      "metadata": {
        "colab": {
          "base_uri": "https://localhost:8080/"
        },
        "id": "ABV3CplC39pf",
        "outputId": "2e65900a-79a3-4037-c6d9-7faaa3be673a"
      },
      "source": [
        "model = Sequential()\r\n",
        "model.add(LSTM(10, input_shape=(1, time_stemp))) # 10 lstm neuron(block)\r\n",
        "model.add(Dense(1))\r\n",
        "model.compile(loss='mean_squared_error', optimizer='adam')\r\n",
        "model.fit(trainX, trainY, epochs=50, batch_size=1)"
      ],
      "execution_count": 10,
      "outputs": [
        {
          "output_type": "stream",
          "text": [
            "Epoch 1/50\n",
            "60/60 [==============================] - 2s 1ms/step - loss: 0.0287\n",
            "Epoch 2/50\n",
            "60/60 [==============================] - 0s 1ms/step - loss: 0.0058\n",
            "Epoch 3/50\n",
            "60/60 [==============================] - 0s 1ms/step - loss: 0.0035\n",
            "Epoch 4/50\n",
            "60/60 [==============================] - 0s 1ms/step - loss: 0.0033\n",
            "Epoch 5/50\n",
            "60/60 [==============================] - 0s 1ms/step - loss: 0.0022\n",
            "Epoch 6/50\n",
            "60/60 [==============================] - 0s 1ms/step - loss: 0.0027\n",
            "Epoch 7/50\n",
            "60/60 [==============================] - 0s 1ms/step - loss: 0.0021\n",
            "Epoch 8/50\n",
            "60/60 [==============================] - 0s 1ms/step - loss: 0.0024\n",
            "Epoch 9/50\n",
            "60/60 [==============================] - 0s 1ms/step - loss: 0.0028\n",
            "Epoch 10/50\n",
            "60/60 [==============================] - 0s 1ms/step - loss: 0.0022\n",
            "Epoch 11/50\n",
            "60/60 [==============================] - 0s 1ms/step - loss: 0.0022\n",
            "Epoch 12/50\n",
            "60/60 [==============================] - 0s 1ms/step - loss: 0.0020\n",
            "Epoch 13/50\n",
            "60/60 [==============================] - 0s 1ms/step - loss: 0.0015\n",
            "Epoch 14/50\n",
            "60/60 [==============================] - 0s 1ms/step - loss: 0.0017\n",
            "Epoch 15/50\n",
            "60/60 [==============================] - 0s 1ms/step - loss: 0.0014\n",
            "Epoch 16/50\n",
            "60/60 [==============================] - 0s 1ms/step - loss: 0.0025\n",
            "Epoch 17/50\n",
            "60/60 [==============================] - 0s 1ms/step - loss: 0.0014\n",
            "Epoch 18/50\n",
            "60/60 [==============================] - 0s 2ms/step - loss: 0.0015\n",
            "Epoch 19/50\n",
            "60/60 [==============================] - 0s 1ms/step - loss: 0.0018\n",
            "Epoch 20/50\n",
            "60/60 [==============================] - 0s 1ms/step - loss: 0.0020\n",
            "Epoch 21/50\n",
            "60/60 [==============================] - 0s 1ms/step - loss: 0.0019\n",
            "Epoch 22/50\n",
            "60/60 [==============================] - 0s 1ms/step - loss: 0.0023\n",
            "Epoch 23/50\n",
            "60/60 [==============================] - 0s 1ms/step - loss: 0.0015\n",
            "Epoch 24/50\n",
            "60/60 [==============================] - 0s 1ms/step - loss: 0.0014\n",
            "Epoch 25/50\n",
            "60/60 [==============================] - 0s 1ms/step - loss: 0.0019\n",
            "Epoch 26/50\n",
            "60/60 [==============================] - 0s 1ms/step - loss: 0.0015\n",
            "Epoch 27/50\n",
            "60/60 [==============================] - 0s 1ms/step - loss: 0.0014\n",
            "Epoch 28/50\n",
            "60/60 [==============================] - 0s 1ms/step - loss: 0.0013\n",
            "Epoch 29/50\n",
            "60/60 [==============================] - 0s 1ms/step - loss: 0.0015\n",
            "Epoch 30/50\n",
            "60/60 [==============================] - 0s 1ms/step - loss: 0.0014\n",
            "Epoch 31/50\n",
            "60/60 [==============================] - 0s 1ms/step - loss: 0.0015\n",
            "Epoch 32/50\n",
            "60/60 [==============================] - 0s 1ms/step - loss: 0.0015\n",
            "Epoch 33/50\n",
            "60/60 [==============================] - 0s 1ms/step - loss: 0.0014\n",
            "Epoch 34/50\n",
            "60/60 [==============================] - 0s 1ms/step - loss: 0.0020\n",
            "Epoch 35/50\n",
            "60/60 [==============================] - 0s 1ms/step - loss: 0.0012\n",
            "Epoch 36/50\n",
            "60/60 [==============================] - 0s 1ms/step - loss: 0.0014\n",
            "Epoch 37/50\n",
            "60/60 [==============================] - 0s 1ms/step - loss: 0.0019\n",
            "Epoch 38/50\n",
            "60/60 [==============================] - 0s 1ms/step - loss: 0.0011\n",
            "Epoch 39/50\n",
            "60/60 [==============================] - 0s 1ms/step - loss: 0.0011\n",
            "Epoch 40/50\n",
            "60/60 [==============================] - 0s 1ms/step - loss: 0.0015\n",
            "Epoch 41/50\n",
            "60/60 [==============================] - 0s 1ms/step - loss: 0.0015\n",
            "Epoch 42/50\n",
            "60/60 [==============================] - 0s 1ms/step - loss: 9.6171e-04\n",
            "Epoch 43/50\n",
            "60/60 [==============================] - 0s 1ms/step - loss: 0.0014\n",
            "Epoch 44/50\n",
            "60/60 [==============================] - 0s 1ms/step - loss: 0.0016\n",
            "Epoch 45/50\n",
            "60/60 [==============================] - 0s 1ms/step - loss: 0.0012\n",
            "Epoch 46/50\n",
            "60/60 [==============================] - 0s 1ms/step - loss: 0.0014\n",
            "Epoch 47/50\n",
            "60/60 [==============================] - 0s 1ms/step - loss: 0.0013\n",
            "Epoch 48/50\n",
            "60/60 [==============================] - 0s 2ms/step - loss: 0.0013\n",
            "Epoch 49/50\n",
            "60/60 [==============================] - 0s 1ms/step - loss: 9.5547e-04\n",
            "Epoch 50/50\n",
            "60/60 [==============================] - 0s 1ms/step - loss: 0.0015\n"
          ],
          "name": "stdout"
        },
        {
          "output_type": "execute_result",
          "data": {
            "text/plain": [
              "<tensorflow.python.keras.callbacks.History at 0x7fcac3c13588>"
            ]
          },
          "metadata": {
            "tags": []
          },
          "execution_count": 10
        }
      ]
    },
    {
      "cell_type": "markdown",
      "metadata": {
        "id": "WWtXhrcn4J5g"
      },
      "source": [
        "## Predictions and Visualising LSTM Model"
      ]
    },
    {
      "cell_type": "code",
      "metadata": {
        "colab": {
          "base_uri": "https://localhost:8080/"
        },
        "id": "6_qA68kb4EdE",
        "outputId": "c5cbde7b-2e94-4551-ef6a-8005c27465f3"
      },
      "source": [
        "trainPredict = model.predict(trainX)\r\n",
        "testPredict = model.predict(testX)\r\n",
        "# invert predictions\r\n",
        "trainPredict = scaler.inverse_transform(trainPredict)\r\n",
        "trainY = scaler.inverse_transform([trainY])\r\n",
        "testPredict = scaler.inverse_transform(testPredict)\r\n",
        "testY = scaler.inverse_transform([testY])\r\n",
        "# calculate root mean squared error\r\n",
        "trainScore = math.sqrt(mean_squared_error(trainY[0], trainPredict[:,0]))\r\n",
        "print('Train Score: %.2f RMSE' % (trainScore))\r\n",
        "testScore = math.sqrt(mean_squared_error(testY[0], testPredict[:,0]))\r\n",
        "print('Test Score: %.2f RMSE' % (testScore))"
      ],
      "execution_count": 11,
      "outputs": [
        {
          "output_type": "stream",
          "text": [
            "Train Score: 17.45 RMSE\n",
            "Test Score: 38.51 RMSE\n"
          ],
          "name": "stdout"
        }
      ]
    },
    {
      "cell_type": "code",
      "metadata": {
        "colab": {
          "base_uri": "https://localhost:8080/",
          "height": 265
        },
        "id": "_vxbEIXC4P2c",
        "outputId": "53cd3236-ae61-4c60-c5ff-3abac3ef1e65"
      },
      "source": [
        "# shifting train\r\n",
        "trainPredictPlot = numpy.empty_like(dataset)\r\n",
        "trainPredictPlot[:, :] = numpy.nan\r\n",
        "trainPredictPlot[time_stemp:len(trainPredict)+time_stemp, :] = trainPredict\r\n",
        "# shifting test predictions for plotting\r\n",
        "testPredictPlot = numpy.empty_like(dataset)\r\n",
        "testPredictPlot[:, :] = numpy.nan\r\n",
        "testPredictPlot[len(trainPredict)+(time_stemp*2)+1:len(dataset)-1, :] = testPredict\r\n",
        "# plot baseline and predictions\r\n",
        "plt.plot(scaler.inverse_transform(dataset))\r\n",
        "plt.plot(trainPredictPlot)\r\n",
        "plt.plot(testPredictPlot)\r\n",
        "plt.show()"
      ],
      "execution_count": 12,
      "outputs": [
        {
          "output_type": "display_data",
          "data": {
            "image/png": "[encoded data removed]",
            "text/plain": [
              "<Figure size 432x288 with 1 Axes>"
            ]
          },
          "metadata": {
            "tags": [],
            "needs_background": "light"
          }
        }
      ]
    }
  ]
}